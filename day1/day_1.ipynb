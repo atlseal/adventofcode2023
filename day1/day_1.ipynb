{
 "cells": [
  {
   "cell_type": "code",
   "execution_count": 5,
   "id": "651476d8-5e90-4b11-9283-a74d82416b97",
   "metadata": {},
   "outputs": [],
   "source": [
    "import re"
   ]
  },
  {
   "cell_type": "code",
   "execution_count": null,
   "id": "27f49988-e1b8-4480-92a3-2ca5ae502b73",
   "metadata": {},
   "outputs": [],
   "source": [
    "# Part 1"
   ]
  },
  {
   "cell_type": "code",
   "execution_count": 42,
   "id": "365b95f3-971f-4026-9d1e-ed6de83e2468",
   "metadata": {},
   "outputs": [],
   "source": [
    "input = open('day_1.txt','r')\n",
    "firstNumberPattern = re.compile(\".*?(\\d).*\")\n",
    "secondNumberPattern = re.compile(\".*(\\d).*?\")"
   ]
  },
  {
   "cell_type": "code",
   "execution_count": 43,
   "id": "2b0d6ddc-ad10-4efe-b811-1a2b6cde4861",
   "metadata": {},
   "outputs": [
    {
     "data": {
      "text/plain": [
       "54331"
      ]
     },
     "execution_count": 43,
     "metadata": {},
     "output_type": "execute_result"
    }
   ],
   "source": [
    "sum = 0\n",
    "\n",
    "for line in input:\n",
    "    firstDigit = int(firstNumberPattern.match(line).group(1))\n",
    "    secondDigit = int(secondNumberPattern.match(line).group(1))\n",
    "    value = firstDigit * 10 + secondDigit\n",
    "    sum += value\n",
    "    \n",
    "sum"
   ]
  },
  {
   "cell_type": "code",
   "execution_count": 44,
   "id": "ce9a7afd-35d0-409f-82b6-9772187d3179",
   "metadata": {},
   "outputs": [],
   "source": [
    "# Part 2"
   ]
  },
  {
   "cell_type": "code",
   "execution_count": 54,
   "id": "fa0b29e5-2fa5-4996-8ba1-0b12b3b49e3f",
   "metadata": {},
   "outputs": [],
   "source": [
    "input = open('day_1.txt','r')\n",
    "\n",
    "numberPattern = \"(\\d|one|two|three|four|five|six|seven|eight|nine)\"\n",
    "\n",
    "firstNumberPattern = re.compile(f\".*?{numberPattern}.*\")\n",
    "secondNumberPattern = re.compile(f\".*{numberPattern}.*?\")"
   ]
  },
  {
   "cell_type": "code",
   "execution_count": 55,
   "id": "695dd622-0b33-493a-985a-9327bfa6bc7e",
   "metadata": {},
   "outputs": [
    {
     "data": {
      "text/plain": [
       "54518"
      ]
     },
     "execution_count": 55,
     "metadata": {},
     "output_type": "execute_result"
    }
   ],
   "source": [
    "sum = 0\n",
    "\n",
    "def to_int(val):\n",
    "    if val == \"one\":\n",
    "        return 1\n",
    "    elif val == \"two\":\n",
    "        return 2\n",
    "    elif val == \"three\":\n",
    "        return 3\n",
    "    elif val == \"four\":\n",
    "        return 4\n",
    "    elif val == \"five\":\n",
    "        return 5\n",
    "    elif val == \"six\":\n",
    "        return 6\n",
    "    elif val == \"seven\":\n",
    "        return 7\n",
    "    elif val == \"eight\":\n",
    "        return 8\n",
    "    elif val == \"nine\":\n",
    "        return 9\n",
    "    else:\n",
    "        return int(val)\n",
    "\n",
    "for line in input:\n",
    "    firstDigit = to_int(firstNumberPattern.match(line).group(1))\n",
    "    secondDigit = to_int(secondNumberPattern.match(line).group(1))\n",
    "    value = firstDigit * 10 + secondDigit\n",
    "    sum += value\n",
    "    \n",
    "sum"
   ]
  },
  {
   "cell_type": "code",
   "execution_count": null,
   "id": "2e72a9bd-6ec4-4855-a4e2-6ce9c424e199",
   "metadata": {},
   "outputs": [],
   "source": []
  }
 ],
 "metadata": {
  "kernelspec": {
   "display_name": "Python 3 (ipykernel)",
   "language": "python",
   "name": "python3"
  },
  "language_info": {
   "codemirror_mode": {
    "name": "ipython",
    "version": 3
   },
   "file_extension": ".py",
   "mimetype": "text/x-python",
   "name": "python",
   "nbconvert_exporter": "python",
   "pygments_lexer": "ipython3",
   "version": "3.10.11"
  }
 },
 "nbformat": 4,
 "nbformat_minor": 5
}
