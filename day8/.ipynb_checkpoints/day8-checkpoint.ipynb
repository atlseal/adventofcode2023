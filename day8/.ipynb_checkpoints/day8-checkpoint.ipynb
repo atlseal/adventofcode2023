{
 "cells": [
  {
   "cell_type": "code",
   "execution_count": 80,
   "id": "248b2a41",
   "metadata": {},
   "outputs": [
    {
     "name": "stdout",
     "output_type": "stream",
     "text": [
      "17873\n"
     ]
    }
   ],
   "source": [
    "# Part 1\n",
    "\n",
    "input = open(\"input.txt\",'r')\n",
    "lines = input.readlines()\n",
    "\n",
    "# lines = \"\"\"LLR\n",
    "\n",
    "# AAA = (BBB, BBB)\n",
    "# BBB = (AAA, ZZZ)\n",
    "# ZZZ = (ZZZ, ZZZ)\"\"\".split('\\n')\n",
    "\n",
    "directions = lines[0].strip()\n",
    "node_definitions = [line.strip() for line in lines[2:]]\n",
    "\n",
    "class Node:\n",
    "    def __init__(self, id, neighbors):\n",
    "        self.id = id\n",
    "        self.left = neighbors[0]\n",
    "        self.right = neighbors[1]\n",
    "        \n",
    "    def __repr__(self):\n",
    "        return self.__str__()\n",
    "    \n",
    "    def __str__(self):\n",
    "        return f\"({self.left}, {self.right})\"\n",
    "        \n",
    "nodes_by_id = {}\n",
    "for node_def in node_definitions:\n",
    "    node_id, node_neighbors = node_def.split(' = ')\n",
    "    node_left, node_right = node_neighbors.replace('(','').replace(')','').split(', ')\n",
    "    nodes_by_id[node_id] = Node(node_id, (node_left, node_right))\n",
    "    \n",
    "directions_idx = 0\n",
    "cur_node = nodes_by_id['AAA']\n",
    "steps = 0\n",
    "while cur_node.id != 'ZZZ':\n",
    "    go_left = directions[directions_idx] == 'L'\n",
    "    cur_node = nodes_by_id[cur_node.left if go_left else cur_node.right]\n",
    "    steps += 1\n",
    "    directions_idx = (directions_idx + 1) % len(directions)\n",
    "    \n",
    "print(steps)"
   ]
  },
  {
   "cell_type": "code",
   "execution_count": 123,
   "id": "749f95df",
   "metadata": {},
   "outputs": [
    {
     "name": "stdout",
     "output_type": "stream",
     "text": [
      "15746133679061\n"
     ]
    }
   ],
   "source": [
    "# Part 2 - Though, in trying to figure out an issue I had in part 1 for the longest time, I ended up seeing the trick to part 2\n",
    "import math\n",
    "\n",
    "input = open(\"input.txt\",'r')\n",
    "lines = input.readlines()\n",
    "\n",
    "# lines = \"\"\"LR\n",
    "\n",
    "# 11A = (11B, XXX)\n",
    "# 11B = (XXX, 11Z)\n",
    "# 11Z = (11B, XXX)\n",
    "# 22A = (22B, XXX)\n",
    "# 22B = (22C, 22C)\n",
    "# 22C = (22Z, 22Z)\n",
    "# 22Z = (22B, 22B)\n",
    "# XXX = (XXX, XXX)\"\"\".split('\\n')\n",
    "\n",
    "directions = lines[0].strip()\n",
    "node_definitions = [line.strip() for line in lines[2:]]\n",
    "\n",
    "class Node:\n",
    "    def __init__(self, id, neighbors):\n",
    "        self.id = id\n",
    "        self.left = neighbors[0]\n",
    "        self.right = neighbors[1]\n",
    "        \n",
    "    def __repr__(self):\n",
    "        return self.__str__()\n",
    "    \n",
    "    def __str__(self):\n",
    "        return f\"{self.id}\"\n",
    "        \n",
    "nodes_by_id = {}\n",
    "for node_def in node_definitions:\n",
    "    node_id, node_neighbors = node_def.split(' = ')\n",
    "    node_left, node_right = node_neighbors.replace('(','').replace(')','').split(', ')\n",
    "    nodes_by_id[node_id] = Node(node_id, (node_left, node_right))\n",
    "    \n",
    "nodes_that_end_in_a = list(filter(lambda x: x[-1] == 'A', nodes_by_id.keys()))\n",
    "\n",
    "def distance_to_z(root_node):\n",
    "    directions_idx = 0\n",
    "    cur_node = nodes_by_id[root_node]\n",
    "    steps = 0\n",
    "    while cur_node.id[-1] != 'Z':\n",
    "        go_left = directions[directions_idx] == 'L'\n",
    "        cur_node = nodes_by_id[cur_node.left if go_left else cur_node.right]\n",
    "        steps += 1\n",
    "        directions_idx = (directions_idx + 1) % len(directions)\n",
    "\n",
    "    return steps\n",
    "        \n",
    "distances = {}\n",
    "for node in nodes_that_end_in_a:\n",
    "    distances[node] = distance_to_z(node)\n",
    "\n",
    "# The first intersection of all paths is the LCM of the distances\n",
    "print(math.lcm(*distances.values()))"
   ]
  },
  {
   "cell_type": "code",
   "execution_count": null,
   "id": "03e4f278",
   "metadata": {},
   "outputs": [],
   "source": []
  }
 ],
 "metadata": {
  "kernelspec": {
   "display_name": "Python 3 (ipykernel)",
   "language": "python",
   "name": "python3"
  },
  "language_info": {
   "codemirror_mode": {
    "name": "ipython",
    "version": 3
   },
   "file_extension": ".py",
   "mimetype": "text/x-python",
   "name": "python",
   "nbconvert_exporter": "python",
   "pygments_lexer": "ipython3",
   "version": "3.10.11"
  }
 },
 "nbformat": 4,
 "nbformat_minor": 5
}
