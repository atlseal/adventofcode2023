{
 "cells": [
  {
   "cell_type": "code",
   "execution_count": 2,
   "id": "ac0804c8",
   "metadata": {},
   "outputs": [
    {
     "name": "stdout",
     "output_type": "stream",
     "text": [
      "???????#??????????? 1,1,8,2\n",
      "\n"
     ]
    }
   ],
   "source": [
    "# Part 1\n",
    "input = open(\"input.txt\",'r')\n",
    "max_q_line = \"\"\n",
    "for line in input.readlines():\n",
    "    if line.count('?') > max_q_line.count('?'):\n",
    "        max_q_line = line\n",
    "        \n",
    "print(max_q_line)"
   ]
  },
  {
   "cell_type": "code",
   "execution_count": null,
   "id": "bfad84b6",
   "metadata": {},
   "outputs": [],
   "source": []
  }
 ],
 "metadata": {
  "kernelspec": {
   "display_name": "Python 3 (ipykernel)",
   "language": "python",
   "name": "python3"
  },
  "language_info": {
   "codemirror_mode": {
    "name": "ipython",
    "version": 3
   },
   "file_extension": ".py",
   "mimetype": "text/x-python",
   "name": "python",
   "nbconvert_exporter": "python",
   "pygments_lexer": "ipython3",
   "version": "3.10.11"
  }
 },
 "nbformat": 4,
 "nbformat_minor": 5
}
