{
 "cells": [
  {
   "cell_type": "code",
   "execution_count": 62,
   "id": "711f2559",
   "metadata": {},
   "outputs": [
    {
     "ename": "KeyError",
     "evalue": "'j'",
     "output_type": "error",
     "traceback": [
      "\u001b[1;31m---------------------------------------------------------------------------\u001b[0m",
      "\u001b[1;31mKeyError\u001b[0m                                  Traceback (most recent call last)",
      "Cell \u001b[1;32mIn [62], line 68\u001b[0m\n\u001b[0;32m     64\u001b[0m             \u001b[38;5;28;01mreturn\u001b[39;00m difference\n\u001b[0;32m     66\u001b[0m     \u001b[38;5;28;01mreturn\u001b[39;00m \u001b[38;5;241m0\u001b[39m\n\u001b[1;32m---> 68\u001b[0m sorted_hands \u001b[38;5;241m=\u001b[39m \u001b[38;5;28msorted\u001b[39m(hands, key\u001b[38;5;241m=\u001b[39mcmp_to_key(compare))\n\u001b[0;32m     70\u001b[0m \u001b[38;5;28msum\u001b[39m \u001b[38;5;241m=\u001b[39m \u001b[38;5;241m0\u001b[39m\n\u001b[0;32m     71\u001b[0m \u001b[38;5;28;01mfor\u001b[39;00m idx \u001b[38;5;129;01min\u001b[39;00m \u001b[38;5;28mrange\u001b[39m(\u001b[38;5;241m1\u001b[39m, \u001b[38;5;28mlen\u001b[39m(sorted_hands) \u001b[38;5;241m+\u001b[39m \u001b[38;5;241m1\u001b[39m):\n",
      "Cell \u001b[1;32mIn [62], line 53\u001b[0m, in \u001b[0;36mcompare\u001b[1;34m(hand_1, hand_2)\u001b[0m\n\u001b[0;32m     52\u001b[0m \u001b[38;5;28;01mdef\u001b[39;00m \u001b[38;5;21mcompare\u001b[39m(hand_1, hand_2):\n\u001b[1;32m---> 53\u001b[0m     hand_1_level \u001b[38;5;241m=\u001b[39m \u001b[43mhand_level\u001b[49m\u001b[43m(\u001b[49m\u001b[43mhand_1\u001b[49m\u001b[43m)\u001b[49m\n\u001b[0;32m     54\u001b[0m     hand_2_level \u001b[38;5;241m=\u001b[39m hand_level(hand_2)\n\u001b[0;32m     55\u001b[0m     difference \u001b[38;5;241m=\u001b[39m hand_1_level \u001b[38;5;241m-\u001b[39m hand_2_level\n",
      "Cell \u001b[1;32mIn [62], line 31\u001b[0m, in \u001b[0;36mhand_level\u001b[1;34m(hand)\u001b[0m\n\u001b[0;32m     29\u001b[0m         largest_non_j \u001b[38;5;241m=\u001b[39m (card, count)\n\u001b[0;32m     30\u001b[0m \u001b[38;5;28;01mif\u001b[39;00m largest_non_j[\u001b[38;5;241m1\u001b[39m] \u001b[38;5;241m>\u001b[39m \u001b[38;5;241m0\u001b[39m:\n\u001b[1;32m---> 31\u001b[0m     \u001b[38;5;28;01mdel\u001b[39;00m value_counts[\u001b[38;5;124m'\u001b[39m\u001b[38;5;124mj\u001b[39m\u001b[38;5;124m'\u001b[39m]\n\u001b[0;32m     32\u001b[0m     value_counts[largest_non_j[\u001b[38;5;241m0\u001b[39m]] \u001b[38;5;241m+\u001b[39m\u001b[38;5;241m=\u001b[39m num_js\n\u001b[0;32m     33\u001b[0m \u001b[38;5;28;01mif\u001b[39;00m \u001b[38;5;28mlen\u001b[39m(value_counts) \u001b[38;5;241m==\u001b[39m \u001b[38;5;241m1\u001b[39m: \u001b[38;5;66;03m# five of a kind\u001b[39;00m\n",
      "\u001b[1;31mKeyError\u001b[0m: 'j'"
     ]
    }
   ],
   "source": [
    "# Part 1\n",
    "from functools import cmp_to_key\n",
    "\n",
    "# lines = [line.strip() for line in open('input.txt','r')]\n",
    "lines = \"\"\"32T3K 765\n",
    "T55J5 684\n",
    "KK677 28\n",
    "KTJJT 220\n",
    "QQQJA 483\"\"\".split('\\n')\n",
    "\n",
    "hand_to_bid = {\n",
    "}\n",
    "for line in lines:\n",
    "    hand, bid = line.split(' ')\n",
    "    hand_to_bid[hand] = int(bid)\n",
    "    \n",
    "hands = list(hand_to_bid.keys())\n",
    "    \n",
    "def hand_level(hand):\n",
    "    value_counts = {}\n",
    "    for card in hand:\n",
    "        value_counts[card] = hand.count(card)\n",
    "    num_js = value_counts.get('j', 0)\n",
    "    largest_non_j = ('j', 0)\n",
    "    for card, count in value_counts.items():\n",
    "        if card == 'j':\n",
    "            continue\n",
    "        if count > largest_non_j[1]:\n",
    "            largest_non_j = (card, count)\n",
    "    if largest_non_j[1] > 0:\n",
    "        del value_counts['j']\n",
    "        value_counts[largest_non_j[0]] += num_js\n",
    "    if len(value_counts) == 1: # five of a kind\n",
    "        return 7\n",
    "    if len(value_counts) == 2:\n",
    "        for _,value in value_counts.items():\n",
    "            if value == 4 or value == 1: # four of a kind\n",
    "                return 6\n",
    "            return 5 # full house\n",
    "    if len(value_counts) == 3:\n",
    "        for _,value in value_counts.items():\n",
    "            if value == 3: # three of a kind\n",
    "                return 4\n",
    "        return 3 # two pair\n",
    "    if len(value_counts) == 4:\n",
    "        return 2 # one pair\n",
    "    return 1 # no pair\n",
    "\n",
    "def card_value(card):\n",
    "    return 'J23456789TQKA'.find(card)\n",
    "\n",
    "def compare(hand_1, hand_2):\n",
    "    hand_1_level = hand_level(hand_1)\n",
    "    hand_2_level = hand_level(hand_2)\n",
    "    difference = hand_1_level - hand_2_level\n",
    "    if difference != 0:\n",
    "        return difference\n",
    "\n",
    "    for idx in range(len(hand_1)):\n",
    "        h1_card = card_value(hand_1[idx])\n",
    "        h2_card = card_value(hand_2[idx])\n",
    "        difference = h1_card - h2_card\n",
    "        if difference != 0:\n",
    "            return difference\n",
    "        \n",
    "    return 0\n",
    "\n",
    "sorted_hands = sorted(hands, key=cmp_to_key(compare))\n",
    "\n",
    "sum = 0\n",
    "for idx in range(1, len(sorted_hands) + 1):\n",
    "    sum += hand_to_bid[sorted_hands[idx - 1]] * idx\n",
    "    \n",
    "print(sum)"
   ]
  },
  {
   "cell_type": "code",
   "execution_count": null,
   "id": "fb69a777",
   "metadata": {},
   "outputs": [],
   "source": []
  },
  {
   "cell_type": "code",
   "execution_count": null,
   "id": "3b88dd81",
   "metadata": {},
   "outputs": [],
   "source": []
  }
 ],
 "metadata": {
  "kernelspec": {
   "display_name": "Python 3 (ipykernel)",
   "language": "python",
   "name": "python3"
  },
  "language_info": {
   "codemirror_mode": {
    "name": "ipython",
    "version": 3
   },
   "file_extension": ".py",
   "mimetype": "text/x-python",
   "name": "python",
   "nbconvert_exporter": "python",
   "pygments_lexer": "ipython3",
   "version": "3.10.11"
  }
 },
 "nbformat": 4,
 "nbformat_minor": 5
}
