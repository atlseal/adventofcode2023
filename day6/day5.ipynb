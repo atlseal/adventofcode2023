{
 "cells": [
  {
   "cell_type": "code",
   "execution_count": 28,
   "id": "665fd431",
   "metadata": {},
   "outputs": [
    {
     "name": "stdout",
     "output_type": "stream",
     "text": [
      "393120\n"
     ]
    }
   ],
   "source": [
    "# Part 1\n",
    "input = open(\"input.txt\",'r').readlines()\n",
    "\n",
    "# input = \"\"\"Time:      7  15   30\n",
    "# Distance:  9  40  200\"\"\".split('\\n')\n",
    "\n",
    "times = [int(x) for x in input[0].split(':')[1].split()]\n",
    "distances = [int(x) for x in input[1].split(':')[1].split()]\n",
    "\n",
    "def find_size_of_time_range(round):    \n",
    "    # Find lower\n",
    "    idx = 1\n",
    "    while idx * (times[round] - idx) <= distances[round]:\n",
    "        idx += 1\n",
    "        \n",
    "    lowest_time = idx\n",
    "    \n",
    "    # Find upper\n",
    "    idx = times[round] - 1\n",
    "    while idx * (times[round] - idx) <= distances[round]:\n",
    "        idx -= 1\n",
    "        \n",
    "    highest_time = idx\n",
    "    \n",
    "    return highest_time - lowest_time + 1\n",
    "\n",
    "product = 1\n",
    "for i in range(len(times)):\n",
    "    product *= find_size_of_time_range(i)\n",
    "    \n",
    "print(product)"
   ]
  },
  {
   "cell_type": "code",
   "execution_count": 31,
   "id": "39783fc0",
   "metadata": {},
   "outputs": [
    {
     "ename": "TypeError",
     "evalue": "'int' object is not subscriptable",
     "output_type": "error",
     "traceback": [
      "\u001b[1;31m---------------------------------------------------------------------------\u001b[0m",
      "\u001b[1;31mTypeError\u001b[0m                                 Traceback (most recent call last)",
      "Cell \u001b[1;32mIn [31], line 29\u001b[0m\n\u001b[0;32m     27\u001b[0m product \u001b[38;5;241m=\u001b[39m \u001b[38;5;241m1\u001b[39m\n\u001b[0;32m     28\u001b[0m \u001b[38;5;28;01mfor\u001b[39;00m i \u001b[38;5;129;01min\u001b[39;00m \u001b[38;5;28mrange\u001b[39m(\u001b[38;5;28mlen\u001b[39m(times)):\n\u001b[1;32m---> 29\u001b[0m     product \u001b[38;5;241m*\u001b[39m\u001b[38;5;241m=\u001b[39m find_size_of_time_range(i)\n\u001b[0;32m     31\u001b[0m \u001b[38;5;28mprint\u001b[39m(product)\n",
      "Cell \u001b[1;32mIn [31], line 13\u001b[0m, in \u001b[0;36mfind_size_of_time_range\u001b[1;34m(round)\u001b[0m\n\u001b[0;32m     10\u001b[0m \u001b[38;5;28;01mdef\u001b[39;00m \u001b[38;5;21mfind_size_of_time_range\u001b[39m(\u001b[38;5;28mround\u001b[39m):    \n\u001b[0;32m     11\u001b[0m     \u001b[38;5;66;03m# Find lower\u001b[39;00m\n\u001b[0;32m     12\u001b[0m     idx \u001b[38;5;241m=\u001b[39m \u001b[38;5;241m1\u001b[39m\n\u001b[1;32m---> 13\u001b[0m     \u001b[38;5;28;01mwhile\u001b[39;00m idx \u001b[38;5;241m*\u001b[39m (times[\u001b[38;5;28mround\u001b[39m] \u001b[38;5;241m-\u001b[39m idx) \u001b[38;5;241m<\u001b[39m\u001b[38;5;241m=\u001b[39m \u001b[43mdistances\u001b[49m\u001b[43m[\u001b[49m\u001b[38;5;28;43mround\u001b[39;49m\u001b[43m]\u001b[49m:\n\u001b[0;32m     14\u001b[0m         idx \u001b[38;5;241m+\u001b[39m\u001b[38;5;241m=\u001b[39m \u001b[38;5;241m1\u001b[39m\n\u001b[0;32m     16\u001b[0m     lowest_time \u001b[38;5;241m=\u001b[39m idx\n",
      "\u001b[1;31mTypeError\u001b[0m: 'int' object is not subscriptable"
     ]
    }
   ],
   "source": [
    "# Part 2\n",
    "input = open(\"input.txt\",'r').readlines()\n",
    "\n",
    "# input = \"\"\"Time:      7  15   30\n",
    "# Distance:  9  40  200\"\"\".split('\\n')\n",
    "\n",
    "time = int(input[0].split(':')[1].replace(' ',''))\n",
    "distance = int(input[1].split(':')[1].replace(' ',''))\n",
    "\n",
    "def find_size_of_time_range(round):    \n",
    "    # Find lower\n",
    "    idx = 1\n",
    "    while idx * (times[round] - idx) <= distance:\n",
    "        idx += 1\n",
    "        \n",
    "    lowest_time = idx\n",
    "    \n",
    "    # Find upper\n",
    "    idx = times[round] - 1\n",
    "    while idx * (times[round] - idx) <= distance:\n",
    "        idx -= 1\n",
    "        \n",
    "    highest_time = idx\n",
    "    \n",
    "    return highest_time - lowest_time + 1\n",
    "\n",
    "product = 1\n",
    "for i in range(len(times)):\n",
    "    product *= find_size_of_time_range(i)\n",
    "    \n",
    "print(product)"
   ]
  },
  {
   "cell_type": "code",
   "execution_count": null,
   "id": "83b4c66d",
   "metadata": {},
   "outputs": [],
   "source": []
  }
 ],
 "metadata": {
  "kernelspec": {
   "display_name": "Python 3 (ipykernel)",
   "language": "python",
   "name": "python3"
  },
  "language_info": {
   "codemirror_mode": {
    "name": "ipython",
    "version": 3
   },
   "file_extension": ".py",
   "mimetype": "text/x-python",
   "name": "python",
   "nbconvert_exporter": "python",
   "pygments_lexer": "ipython3",
   "version": "3.10.11"
  }
 },
 "nbformat": 4,
 "nbformat_minor": 5
}
