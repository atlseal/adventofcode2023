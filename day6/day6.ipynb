{
 "cells": [
  {
   "cell_type": "code",
   "execution_count": 28,
   "id": "db4bcbcf",
   "metadata": {},
   "outputs": [
    {
     "name": "stdout",
     "output_type": "stream",
     "text": [
      "393120\n"
     ]
    }
   ],
   "source": [
    "# Part 1\n",
    "input = open(\"input.txt\",'r').readlines()\n",
    "\n",
    "# input = \"\"\"Time:      7  15   30\n",
    "# Distance:  9  40  200\"\"\".split('\\n')\n",
    "\n",
    "times = [int(x) for x in input[0].split(':')[1].split()]\n",
    "distances = [int(x) for x in input[1].split(':')[1].split()]\n",
    "\n",
    "def find_size_of_time_range(round):    \n",
    "    # Find lower\n",
    "    idx = 1\n",
    "    while idx * (times[round] - idx) <= distances[round]:\n",
    "        idx += 1\n",
    "        \n",
    "    lowest_time = idx\n",
    "    \n",
    "    # Find upper\n",
    "    idx = times[round] - 1\n",
    "    while idx * (times[round] - idx) <= distances[round]:\n",
    "        idx -= 1\n",
    "        \n",
    "    highest_time = idx\n",
    "    \n",
    "    return highest_time - lowest_time + 1\n",
    "\n",
    "product = 1\n",
    "for i in range(len(times)):\n",
    "    product *= find_size_of_time_range(i)\n",
    "    \n",
    "print(product)"
   ]
  },
  {
   "cell_type": "code",
   "execution_count": 34,
   "id": "74b0f1fe",
   "metadata": {},
   "outputs": [
    {
     "name": "stdout",
     "output_type": "stream",
     "text": [
      "36872656\n"
     ]
    }
   ],
   "source": [
    "# Part 2\n",
    "input = open(\"input.txt\",'r').readlines()\n",
    "\n",
    "# input = \"\"\"Time:      7  15   30\n",
    "# Distance:  9  40  200\"\"\".split('\\n')\n",
    "\n",
    "time = int(input[0].split(':')[1].replace(' ',''))\n",
    "distance = int(input[1].split(':')[1].replace(' ',''))\n",
    "\n",
    "# ax^2 + bx + c\n",
    "# f'(x) = 2x + b\n",
    "\n",
    "def find_size_of_time_range():    \n",
    "    # Find lower\n",
    "    idx = 1\n",
    "    while idx * (time - idx) <= distance:\n",
    "        idx += 1\n",
    "        \n",
    "    lowest_time = idx\n",
    "    \n",
    "    # Find upper\n",
    "    idx = time - 1\n",
    "    while idx * (time - idx) <= distance:\n",
    "        idx -= 1\n",
    "        \n",
    "    highest_time = idx\n",
    "    \n",
    "    return highest_time - lowest_time + 1\n",
    "    \n",
    "print(find_size_of_time_range())"
   ]
  }
 ],
 "metadata": {
  "kernelspec": {
   "display_name": "Python 3 (ipykernel)",
   "language": "python",
   "name": "python3"
  },
  "language_info": {
   "codemirror_mode": {
    "name": "ipython",
    "version": 3
   },
   "file_extension": ".py",
   "mimetype": "text/x-python",
   "name": "python",
   "nbconvert_exporter": "python",
   "pygments_lexer": "ipython3",
   "version": "3.10.11"
  }
 },
 "nbformat": 4,
 "nbformat_minor": 5
}
