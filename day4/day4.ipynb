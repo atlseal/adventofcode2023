{
 "cells": [
  {
   "cell_type": "code",
   "execution_count": 33,
   "id": "eec3efcd",
   "metadata": {},
   "outputs": [
    {
     "name": "stdout",
     "output_type": "stream",
     "text": [
      "26914\n"
     ]
    }
   ],
   "source": [
    "# Part 1\n",
    "\n",
    "import re\n",
    "\n",
    "input = open(\"input.txt\",\"r\")\n",
    "input_lines = [line.strip() for line in input]\n",
    "# input_lines = \"\"\"Card 1: 41 48 83 86 17 | 83 86  6 31 17  9 48 53\n",
    "# Card 2: 13 32 20 16 61 | 61 30 68 82 17 32 24 19\n",
    "# Card 3:  1 21 53 59 44 | 69 82 63 72 16 21 14  1\n",
    "# Card 4: 41 92 73 84 69 | 59 84 76 51 58  5 54 83\n",
    "# Card 5: 87 83 26 28 32 | 88 30 70 12 93 22 82 36\n",
    "# Card 6: 31 18 13 56 72 | 74 77 10 23 35 67 36 11\"\"\".split('\\n')\n",
    "\n",
    "line_pattern = re.compile(\"Card (?P<card_num>\\d+): (?P<winning_numbers>[^|]+)\\|(?P<player_numbers>.+)\")\n",
    "\n",
    "sum = 0\n",
    "for line in input_lines:\n",
    "    parsed_line = line_pattern.match(re.sub('\\s+', ' ', line))\n",
    "    card_num = int(parsed_line.group('card_num'))\n",
    "    player_numbers = parsed_line.group('player_numbers').strip().split(' ')\n",
    "    winning_numbers = parsed_line.group('winning_numbers').strip().split(' ')\n",
    "    \n",
    "    line_score = 0\n",
    "    for number in player_numbers:\n",
    "        if number in winning_numbers:\n",
    "            line_score = max(1, line_score * 2)\n",
    "    sum += line_score\n",
    "    \n",
    "print(sum)"
   ]
  },
  {
   "cell_type": "code",
   "execution_count": 52,
   "id": "f07b78ad",
   "metadata": {},
   "outputs": [
    {
     "name": "stdout",
     "output_type": "stream",
     "text": [
      "1 has 4 winners\n",
      "defaultdict(<function <lambda> at 0x0000014B37E34B80>, {2: 2, 3: 2, 4: 2, 5: 2})\n",
      "2 has 2 winners\n",
      "defaultdict(<function <lambda> at 0x0000014B37E34B80>, {2: 2, 3: 4, 4: 4, 5: 2})\n",
      "3 has 2 winners\n",
      "defaultdict(<function <lambda> at 0x0000014B37E34B80>, {2: 2, 3: 4, 4: 8, 5: 4})\n",
      "4 has 1 winners\n",
      "defaultdict(<function <lambda> at 0x0000014B37E34B80>, {2: 2, 3: 4, 4: 8, 5: 8})\n",
      "5 has 0 winners\n",
      "defaultdict(<function <lambda> at 0x0000014B37E34B80>, {2: 2, 3: 4, 4: 8, 5: 8})\n",
      "6 has 0 winners\n",
      "defaultdict(<function <lambda> at 0x0000014B37E34B80>, {2: 2, 3: 4, 4: 8, 5: 8})\n",
      "defaultdict(<function <lambda> at 0x0000014B37E34B80>, {2: 2, 3: 4, 4: 8, 5: 8})\n",
      "22\n"
     ]
    }
   ],
   "source": [
    "# Part 1\n",
    "\n",
    "import re\n",
    "from collections import defaultdict\n",
    "\n",
    "input = open(\"input.txt\",\"r\")\n",
    "# input_lines = [line.strip() for line in input]\n",
    "input_lines = \"\"\"Card 1: 41 48 83 86 17 | 83 86  6 31 17  9 48 53\n",
    "Card 2: 13 32 20 16 61 | 61 30 68 82 17 32 24 19\n",
    "Card 3:  1 21 53 59 44 | 69 82 63 72 16 21 14  1\n",
    "Card 4: 41 92 73 84 69 | 59 84 76 51 58  5 54 83\n",
    "Card 5: 87 83 26 28 32 | 88 30 70 12 93 22 82 36\n",
    "Card 6: 31 18 13 56 72 | 74 77 10 23 35 67 36 11\"\"\".split('\\n')\n",
    "\n",
    "line_pattern = re.compile(\"Card (?P<card_num>\\d+): (?P<winning_numbers>[^|]+)\\|(?P<player_numbers>.+)\")\n",
    "\n",
    "card_id_to_count = defaultdict(lambda: 1)\n",
    "\n",
    "for line in input_lines:\n",
    "    parsed_line = line_pattern.match(re.sub('\\s+', ' ', line))\n",
    "    card_num = int(parsed_line.group('card_num'))\n",
    "    player_numbers = parsed_line.group('player_numbers').strip().split(' ')\n",
    "    winning_numbers = parsed_line.group('winning_numbers').strip().split(' ')\n",
    "    \n",
    "    num_winners = 0\n",
    "    for number in player_numbers:\n",
    "        if number in winning_numbers:\n",
    "            num_winners += 1\n",
    "            \n",
    "    print(f'{card_num} has {num_winners} winners')\n",
    "    \n",
    "    for offset in range(1, num_winners + 1):\n",
    "        temp_idx = card_num + offset\n",
    "        card_id_to_count[temp_idx] *= 2\n",
    "            \n",
    "    print(card_id_to_count)\n",
    "\n",
    "print(card_id_to_count)\n",
    "sum = 0\n",
    "for idx in range(1, len(input_lines) + 1):\n",
    "    if idx in card_id_to_count:\n",
    "        sum += card_id_to_count[idx]\n",
    "    \n",
    "print(sum)"
   ]
  },
  {
   "cell_type": "code",
   "execution_count": null,
   "id": "d33b2309",
   "metadata": {},
   "outputs": [],
   "source": []
  }
 ],
 "metadata": {
  "kernelspec": {
   "display_name": "Python 3 (ipykernel)",
   "language": "python",
   "name": "python3"
  },
  "language_info": {
   "codemirror_mode": {
    "name": "ipython",
    "version": 3
   },
   "file_extension": ".py",
   "mimetype": "text/x-python",
   "name": "python",
   "nbconvert_exporter": "python",
   "pygments_lexer": "ipython3",
   "version": "3.10.11"
  }
 },
 "nbformat": 4,
 "nbformat_minor": 5
}
