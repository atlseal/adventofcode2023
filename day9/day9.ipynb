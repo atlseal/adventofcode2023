{
 "cells": [
  {
   "cell_type": "code",
   "execution_count": 32,
   "id": "6345b50c",
   "metadata": {},
   "outputs": [
    {
     "name": "stdout",
     "output_type": "stream",
     "text": [
      "1684566095\n"
     ]
    }
   ],
   "source": [
    "# Part 1\n",
    "input = open('input.txt','r')\n",
    "\n",
    "lines = input.readlines()\n",
    "# lines = \"\"\"0 3 6 9 12 15\n",
    "# 1 3 6 10 15 21\n",
    "# 10 13 16 21 30 45\"\"\".split('\\n')\n",
    "lines = [list(map(int, line.strip().split())) for line in lines]\n",
    "\n",
    "def next_value(line):\n",
    "    line_stack = [line]\n",
    "    while sum(line_stack[-1]) != 0:\n",
    "        next_line = line_stack[-1]\n",
    "        diffs = [next_line[idx + 1] - next_line[idx] for idx in range(len(next_line) - 1)]\n",
    "        line_stack.append(diffs)\n",
    "    return sum(map(lambda x: x[-1], line_stack))\n",
    "\n",
    "print(sum([next_value(line) for line in lines]))"
   ]
  },
  {
   "cell_type": "code",
   "execution_count": 63,
   "id": "d13bc052",
   "metadata": {},
   "outputs": [
    {
     "name": "stdout",
     "output_type": "stream",
     "text": [
      "1136\n"
     ]
    }
   ],
   "source": [
    "# Part 2\n",
    "input = open('input.txt','r')\n",
    "\n",
    "lines = input.readlines()\n",
    "# lines = \"\"\"0 3 6 9 12 15\n",
    "# 1 3 6 10 15 21\n",
    "# 10 13 16 21 30 45\"\"\".split('\\n')\n",
    "lines = [list(map(int, line.strip().split())) for line in lines]\n",
    "\n",
    "def prev_value(line):\n",
    "    line_stack = [line]\n",
    "    while sum(line_stack[-1]) != 0:\n",
    "        next_line = line_stack[-1]\n",
    "        diffs = [next_line[idx + 1] - next_line[idx] for idx in range(len(next_line) - 1)]\n",
    "        line_stack.append(diffs)\n",
    "    for idx in range(len(line_stack) - 2, -1, -1):\n",
    "        line_stack[idx] = [line_stack[idx][0] - line_stack[idx+1][0]] + line_stack[idx]\n",
    "    return line_stack[0][0]\n",
    "\n",
    "print(sum([prev_value(line) for line in lines]))"
   ]
  },
  {
   "cell_type": "code",
   "execution_count": null,
   "id": "e4ee3d83",
   "metadata": {},
   "outputs": [],
   "source": []
  }
 ],
 "metadata": {
  "kernelspec": {
   "display_name": "Python 3 (ipykernel)",
   "language": "python",
   "name": "python3"
  },
  "language_info": {
   "codemirror_mode": {
    "name": "ipython",
    "version": 3
   },
   "file_extension": ".py",
   "mimetype": "text/x-python",
   "name": "python",
   "nbconvert_exporter": "python",
   "pygments_lexer": "ipython3",
   "version": "3.10.11"
  }
 },
 "nbformat": 4,
 "nbformat_minor": 5
}
